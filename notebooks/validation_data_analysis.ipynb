{
 "cells": [
  {
   "cell_type": "markdown",
   "source": [
    "# Analysis of the validation dataset"
   ],
   "metadata": {
    "collapsed": false
   }
  },
  {
   "cell_type": "markdown",
   "source": [
    "Goal: Gather insights into the dataset"
   ],
   "metadata": {
    "collapsed": false
   }
  },
  {
   "cell_type": "markdown",
   "source": [
    "## Load data"
   ],
   "metadata": {
    "collapsed": false
   }
  },
  {
   "cell_type": "code",
   "execution_count": null,
   "outputs": [],
   "source": [
    "import sqlite3\n",
    "\n",
    "import pandas as pd\n",
    "from environment.env import getNotebookDataSourcePath\n",
    "\n",
    "connection = sqlite3.connect(getNotebookDataSourcePath())\n",
    "cursor = connection.cursor()\n",
    "\n",
    "query = \"SELECT * FROM validation_data\"\n",
    "cursor.execute(query)\n",
    "\n",
    "data = cursor.fetchall()\n",
    "connection.close()"
   ],
   "metadata": {
    "collapsed": false
   }
  },
  {
   "cell_type": "markdown",
   "source": [
    "## Analyze dataset"
   ],
   "metadata": {
    "collapsed": false
   }
  },
  {
   "cell_type": "code",
   "execution_count": null,
   "outputs": [],
   "source": [
    "from utils.category import convert_big_to_medium_category_index2\n",
    "\n",
    "df = pd.DataFrame(data, columns=['sectionID', 'sectionText', 'class', 'index'])\n",
    "\n",
    "df_2 = df.copy()\n",
    "df_2['class'] = df_2['class'].apply(convert_big_to_medium_category_index2)\n",
    "\n",
    "print(df_2.head())\n",
    "\n",
    "print(\"First 5 lines of dataset\")\n",
    "print(df.head())"
   ],
   "metadata": {
    "collapsed": false
   }
  },
  {
   "cell_type": "code",
   "execution_count": null,
   "outputs": [],
   "source": [
    "from matplotlib import pyplot as plt\n",
    "\n",
    "df_filtered = df_2[df_2['class'] != 1000]\n",
    "class_counts = df_filtered['class'].value_counts()\n",
    "\n",
    "plt.figure(figsize=(10, 6))\n",
    "plt.title('Distribution of Classes', fontsize=16, fontweight='bold')\n",
    "plt.xlabel('Class', fontsize=14, fontweight='bold')\n",
    "plt.ylabel('Number', fontsize=14, fontweight='bold')\n",
    "plt.xticks(fontsize=10, rotation=130)\n",
    "plt.yticks(fontsize=10)\n",
    "class_counts.plot(kind='bar')\n",
    "plt.title('Distribution of Classes')\n",
    "plt.xlabel('Class')\n",
    "plt.ylabel('Number')\n",
    "plt.show()"
   ],
   "metadata": {
    "collapsed": false
   }
  }
 ],
 "metadata": {
  "kernelspec": {
   "display_name": "Python 3",
   "language": "python",
   "name": "python3"
  },
  "language_info": {
   "codemirror_mode": {
    "name": "ipython",
    "version": 2
   },
   "file_extension": ".py",
   "mimetype": "text/x-python",
   "name": "python",
   "nbconvert_exporter": "python",
   "pygments_lexer": "ipython2",
   "version": "2.7.6"
  }
 },
 "nbformat": 4,
 "nbformat_minor": 0
}
