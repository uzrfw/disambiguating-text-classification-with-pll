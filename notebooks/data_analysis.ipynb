{
 "cells": [
  {
   "cell_type": "markdown",
   "source": [
    "# Analysis of the Wikipedia dataset"
   ],
   "metadata": {
    "collapsed": false
   }
  },
  {
   "cell_type": "markdown",
   "source": [
    "Goal: Gather insights into the dataset"
   ],
   "metadata": {
    "collapsed": false
   }
  },
  {
   "cell_type": "markdown",
   "source": [
    "## Load data"
   ],
   "metadata": {
    "collapsed": false
   }
  },
  {
   "cell_type": "code",
   "execution_count": null,
   "outputs": [],
   "source": [
    "import sqlite3\n",
    "\n",
    "import nltk\n",
    "import pandas as pd\n",
    "from environment.env import getDataSourcePath\n",
    "\n",
    "\n",
    "connection = sqlite3.connect(getDataSourcePath())\n",
    "cursor = connection.cursor()\n",
    "\n",
    "query = \"SELECT * FROM wikipedia_sections\"\n",
    "cursor.execute(query)\n",
    "\n",
    "data = cursor.fetchall()\n",
    "connection.close()\n"
   ],
   "metadata": {
    "collapsed": false
   }
  },
  {
   "cell_type": "markdown",
   "source": [
    "## Analyze dataset"
   ],
   "metadata": {
    "collapsed": false
   }
  },
  {
   "cell_type": "code",
   "execution_count": null,
   "outputs": [],
   "source": [
    "df = pd.DataFrame(data, columns=['sectionID', 'articleID', 'articleHeadline', 'rawArticleText', 'cleanedArticleText', 'sectionHeadline', 'isFirstSection'])\n",
    "\n",
    "print(\"First 5 lines of dataset\")\n",
    "print(df.head())"
   ],
   "metadata": {
    "collapsed": false
   }
  },
  {
   "cell_type": "code",
   "execution_count": null,
   "outputs": [],
   "source": [
    "df['Text_Length'] = df['cleanedArticleText'].apply(len)\n",
    "\n",
    "print(\"\\nStatistics to text length:\")\n",
    "print(df['Text_Length'].describe())"
   ],
   "metadata": {
    "collapsed": false
   }
  },
  {
   "cell_type": "code",
   "execution_count": null,
   "outputs": [],
   "source": [
    "import matplotlib.pyplot as plt\n",
    "import seaborn as sns\n",
    "\n",
    "plt.figure(figsize=(10, 6))\n",
    "sns.histplot(df['Text_Length'], bins=30, kde=True)\n",
    "plt.title('Distribution of text length')\n",
    "plt.xlabel('Text length')\n",
    "plt.ylabel('Frequency')\n",
    "plt.show()"
   ],
   "metadata": {
    "collapsed": false
   }
  },
  {
   "cell_type": "code",
   "execution_count": null,
   "outputs": [],
   "source": [
    "from nltk.tokenize import word_tokenize\n",
    "from nltk.corpus import stopwords\n",
    "from nltk.probability import FreqDist\n",
    "\n",
    "nltk.download('stopwords')\n",
    "nltk.download('punkt')\n",
    "\n",
    "stop_words = set(stopwords.words('english'))\n",
    "df['Tokenized_Text'] = df['cleanedArticleText'].apply(lambda x: word_tokenize(x))\n",
    "df['Tokenized_Text'] = df['Tokenized_Text'].apply(lambda x: [word.lower() for word in x if word.isalpha() and word.lower() not in stop_words])\n",
    "\n",
    "all_words = [word for tokens in df['Tokenized_Text'] for word in tokens]\n",
    "fdist = FreqDist(all_words)\n",
    "plt.figure(figsize=(12, 6))\n",
    "plt.title('Top 30 words')\n",
    "fdist.plot(30, cumulative=False)\n",
    "plt.show()"
   ],
   "metadata": {
    "collapsed": false
   }
  },
  {
   "cell_type": "code",
   "execution_count": null,
   "outputs": [],
   "source": [
    "df['Word_Count'] = df['Tokenized_Text'].apply(len)\n",
    "\n",
    "plt.figure(figsize=(10, 6))\n",
    "sns.histplot(df['Word_Count'], bins=20, kde=True)\n",
    "plt.title('Distribution of Word Count in Text')\n",
    "plt.xlabel('Number of words')\n",
    "plt.ylabel('Frequency')\n",
    "plt.show()"
   ],
   "metadata": {
    "collapsed": false
   }
  },
  {
   "cell_type": "code",
   "execution_count": null,
   "outputs": [],
   "source": [
    "df['Sentence_Count'] = df['cleanedArticleText'].apply(lambda x: len(nltk.sent_tokenize(x)))\n",
    "\n",
    "plt.figure(figsize=(10, 6))\n",
    "sns.histplot(df['Sentence_Count'], bins=20, kde=True)\n",
    "plt.title('Distribution of Sentence Count in Text')\n",
    "plt.xlabel('Number of Sentences')\n",
    "plt.ylabel('Frequency')\n",
    "plt.show()"
   ],
   "metadata": {
    "collapsed": false
   }
  },
  {
   "cell_type": "code",
   "execution_count": null,
   "outputs": [],
   "source": [
    "numeric_columns = ['Text_Length', 'Word_Count', 'Sentence_Count']\n",
    "corr_matrix = df[numeric_columns].corr()\n",
    "\n",
    "plt.figure(figsize=(10, 8))\n",
    "sns.heatmap(corr_matrix, annot=True, cmap='coolwarm', fmt=\".2f\", linewidths=.5)\n",
    "plt.title('Correlation Matrix')\n",
    "plt.show()"
   ],
   "metadata": {
    "collapsed": false
   }
  }
 ],
 "metadata": {
  "kernelspec": {
   "display_name": "Python 3",
   "language": "python",
   "name": "python3"
  },
  "language_info": {
   "codemirror_mode": {
    "name": "ipython",
    "version": 2
   },
   "file_extension": ".py",
   "mimetype": "text/x-python",
   "name": "python",
   "nbconvert_exporter": "python",
   "pygments_lexer": "ipython2",
   "version": "2.7.6"
  }
 },
 "nbformat": 4,
 "nbformat_minor": 0
}
